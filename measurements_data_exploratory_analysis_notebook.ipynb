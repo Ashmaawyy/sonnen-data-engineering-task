{
 "cells": [
  {
   "cell_type": "markdown",
   "metadata": {},
   "source": [
    "# Measurements Data Exploratory Analysis"
   ]
  },
  {
   "cell_type": "markdown",
   "metadata": {},
   "source": [
    "### First Loading the Dataset and printing basic metadata"
   ]
  },
  {
   "cell_type": "code",
   "execution_count": 1,
   "metadata": {},
   "outputs": [],
   "source": [
    "#importing libraries\n",
    "from pandas import read_csv"
   ]
  },
  {
   "cell_type": "code",
   "execution_count": 2,
   "metadata": {},
   "outputs": [],
   "source": [
    "#loading the dataset\n",
    "measurements = read_csv('measurements_coding_challenge.csv', delimiter=';')"
   ]
  },
  {
   "cell_type": "code",
   "execution_count": 3,
   "metadata": {},
   "outputs": [
    {
     "name": "stdout",
     "output_type": "stream",
     "text": [
      "<class 'pandas.core.frame.DataFrame'>\n",
      "RangeIndex: 15828 entries, 0 to 15827\n",
      "Data columns (total 6 columns):\n",
      " #   Column              Non-Null Count  Dtype \n",
      "---  ------              --------------  ----- \n",
      " 0   timestamp           15828 non-null  object\n",
      " 1   serial              15828 non-null  int64 \n",
      " 2   grid_purchase       14390 non-null  object\n",
      " 3   grid_feedin         15828 non-null  object\n",
      " 4   direct_consumption  2 non-null      object\n",
      " 5   date                15828 non-null  object\n",
      "dtypes: int64(1), object(5)\n",
      "memory usage: 742.1+ KB\n"
     ]
    }
   ],
   "source": [
    "measurements.info()"
   ]
  },
  {
   "cell_type": "markdown",
   "metadata": {},
   "source": [
    "### Let's see what we are dealing with here\n",
    "First we need to see those two non-null values"
   ]
  },
  {
   "cell_type": "code",
   "execution_count": 4,
   "metadata": {},
   "outputs": [
    {
     "data": {
      "application/vnd.microsoft.datawrangler.viewer.v0+json": {
       "columns": [
        {
         "name": "index",
         "rawType": "int64",
         "type": "integer"
        },
        {
         "name": "timestamp",
         "rawType": "object",
         "type": "string"
        },
        {
         "name": "serial",
         "rawType": "int64",
         "type": "integer"
        },
        {
         "name": "grid_purchase",
         "rawType": "object",
         "type": "string"
        },
        {
         "name": "grid_feedin",
         "rawType": "object",
         "type": "string"
        },
        {
         "name": "direct_consumption",
         "rawType": "object",
         "type": "string"
        },
        {
         "name": "date",
         "rawType": "object",
         "type": "string"
        }
       ],
       "conversionMethod": "pd.DataFrame",
       "ref": "6156a03f-5901-46e4-86ba-648cbcbe46be",
       "rows": [
        [
         "3290",
         "2023-05-22T19:36:00.000Z",
         "1083091999",
         "Dev test",
         "Dev test",
         "Dev test",
         "2023-05-22"
        ],
        [
         "3329",
         "2023-05-22T20:09:00.000Z",
         "1057045008",
         "Dev test",
         "Dev test",
         "Dev test",
         "2023-05-22"
        ]
       ],
       "shape": {
        "columns": 6,
        "rows": 2
       }
      },
      "text/html": [
       "<div>\n",
       "<style scoped>\n",
       "    .dataframe tbody tr th:only-of-type {\n",
       "        vertical-align: middle;\n",
       "    }\n",
       "\n",
       "    .dataframe tbody tr th {\n",
       "        vertical-align: top;\n",
       "    }\n",
       "\n",
       "    .dataframe thead th {\n",
       "        text-align: right;\n",
       "    }\n",
       "</style>\n",
       "<table border=\"1\" class=\"dataframe\">\n",
       "  <thead>\n",
       "    <tr style=\"text-align: right;\">\n",
       "      <th></th>\n",
       "      <th>timestamp</th>\n",
       "      <th>serial</th>\n",
       "      <th>grid_purchase</th>\n",
       "      <th>grid_feedin</th>\n",
       "      <th>direct_consumption</th>\n",
       "      <th>date</th>\n",
       "    </tr>\n",
       "  </thead>\n",
       "  <tbody>\n",
       "    <tr>\n",
       "      <th>3290</th>\n",
       "      <td>2023-05-22T19:36:00.000Z</td>\n",
       "      <td>1083091999</td>\n",
       "      <td>Dev test</td>\n",
       "      <td>Dev test</td>\n",
       "      <td>Dev test</td>\n",
       "      <td>2023-05-22</td>\n",
       "    </tr>\n",
       "    <tr>\n",
       "      <th>3329</th>\n",
       "      <td>2023-05-22T20:09:00.000Z</td>\n",
       "      <td>1057045008</td>\n",
       "      <td>Dev test</td>\n",
       "      <td>Dev test</td>\n",
       "      <td>Dev test</td>\n",
       "      <td>2023-05-22</td>\n",
       "    </tr>\n",
       "  </tbody>\n",
       "</table>\n",
       "</div>"
      ],
      "text/plain": [
       "                     timestamp      serial grid_purchase grid_feedin  \\\n",
       "3290  2023-05-22T19:36:00.000Z  1083091999      Dev test    Dev test   \n",
       "3329  2023-05-22T20:09:00.000Z  1057045008      Dev test    Dev test   \n",
       "\n",
       "     direct_consumption        date  \n",
       "3290           Dev test  2023-05-22  \n",
       "3329           Dev test  2023-05-22  "
      ]
     },
     "execution_count": 4,
     "metadata": {},
     "output_type": "execute_result"
    }
   ],
   "source": [
    "measurements[measurements['direct_consumption'].notna()]"
   ]
  },
  {
   "cell_type": "code",
   "execution_count": null,
   "metadata": {},
   "outputs": [
    {
     "data": {
      "application/vnd.microsoft.datawrangler.viewer.v0+json": {
       "columns": [
        {
         "name": "index",
         "rawType": "int64",
         "type": "integer"
        },
        {
         "name": "timestamp",
         "rawType": "object",
         "type": "string"
        },
        {
         "name": "serial",
         "rawType": "int64",
         "type": "integer"
        },
        {
         "name": "grid_purchase",
         "rawType": "object",
         "type": "unknown"
        },
        {
         "name": "grid_feedin",
         "rawType": "object",
         "type": "string"
        },
        {
         "name": "direct_consumption",
         "rawType": "object",
         "type": "unknown"
        },
        {
         "name": "date",
         "rawType": "object",
         "type": "string"
        }
       ],
       "conversionMethod": "pd.DataFrame",
       "ref": "af087768-6c6f-457e-8f70-297526b479a7",
       "rows": [
        [
         "0",
         "2023-05-22T15:40:00.000Z",
         "1711356005",
         "673",
         "0",
         null,
         "2023-05-22"
        ],
        [
         "1",
         "2023-05-22T15:54:00.000Z",
         "2105167400",
         null,
         "36",
         null,
         "2023-05-22"
        ],
        [
         "2",
         "2023-05-22T16:14:00.000Z",
         "1083091999",
         "7012",
         "0",
         null,
         "2023-05-22"
        ],
        [
         "3",
         "2023-05-22T04:57:00.000Z",
         "970568993",
         "0",
         "2045",
         null,
         "2023-05-22"
        ],
        [
         "4",
         "2023-05-22T16:30:00.000Z",
         "1559834999",
         "27",
         "0",
         null,
         "2023-05-22"
        ],
        [
         "5",
         "2023-05-22T18:21:00.000Z",
         "1028817402",
         "0",
         "0",
         null,
         "2023-05-22"
        ],
        [
         "6",
         "2023-05-22T18:27:00.000Z",
         "1559834999",
         "27",
         "0",
         null,
         "2023-05-22"
        ],
        [
         "7",
         "2023-05-22T18:23:00.000Z",
         "1083091999",
         "8115",
         "0",
         null,
         "2023-05-22"
        ],
        [
         "8",
         "2023-05-22T16:26:00.000Z",
         "1057045008",
         "1378",
         "0",
         null,
         "2023-05-22"
        ],
        [
         "9",
         "2023-05-22T18:43:00.000Z",
         "1771861586",
         "0",
         "0",
         null,
         "2023-05-22"
        ]
       ],
       "shape": {
        "columns": 6,
        "rows": 10
       }
      },
      "text/html": [
       "<div>\n",
       "<style scoped>\n",
       "    .dataframe tbody tr th:only-of-type {\n",
       "        vertical-align: middle;\n",
       "    }\n",
       "\n",
       "    .dataframe tbody tr th {\n",
       "        vertical-align: top;\n",
       "    }\n",
       "\n",
       "    .dataframe thead th {\n",
       "        text-align: right;\n",
       "    }\n",
       "</style>\n",
       "<table border=\"1\" class=\"dataframe\">\n",
       "  <thead>\n",
       "    <tr style=\"text-align: right;\">\n",
       "      <th></th>\n",
       "      <th>timestamp</th>\n",
       "      <th>serial</th>\n",
       "      <th>grid_purchase</th>\n",
       "      <th>grid_feedin</th>\n",
       "      <th>direct_consumption</th>\n",
       "      <th>date</th>\n",
       "    </tr>\n",
       "  </thead>\n",
       "  <tbody>\n",
       "    <tr>\n",
       "      <th>0</th>\n",
       "      <td>2023-05-22T15:40:00.000Z</td>\n",
       "      <td>1711356005</td>\n",
       "      <td>673</td>\n",
       "      <td>0</td>\n",
       "      <td>NaN</td>\n",
       "      <td>2023-05-22</td>\n",
       "    </tr>\n",
       "    <tr>\n",
       "      <th>1</th>\n",
       "      <td>2023-05-22T15:54:00.000Z</td>\n",
       "      <td>2105167400</td>\n",
       "      <td>NaN</td>\n",
       "      <td>36</td>\n",
       "      <td>NaN</td>\n",
       "      <td>2023-05-22</td>\n",
       "    </tr>\n",
       "    <tr>\n",
       "      <th>2</th>\n",
       "      <td>2023-05-22T16:14:00.000Z</td>\n",
       "      <td>1083091999</td>\n",
       "      <td>7012</td>\n",
       "      <td>0</td>\n",
       "      <td>NaN</td>\n",
       "      <td>2023-05-22</td>\n",
       "    </tr>\n",
       "    <tr>\n",
       "      <th>3</th>\n",
       "      <td>2023-05-22T04:57:00.000Z</td>\n",
       "      <td>970568993</td>\n",
       "      <td>0</td>\n",
       "      <td>2045</td>\n",
       "      <td>NaN</td>\n",
       "      <td>2023-05-22</td>\n",
       "    </tr>\n",
       "    <tr>\n",
       "      <th>4</th>\n",
       "      <td>2023-05-22T16:30:00.000Z</td>\n",
       "      <td>1559834999</td>\n",
       "      <td>27</td>\n",
       "      <td>0</td>\n",
       "      <td>NaN</td>\n",
       "      <td>2023-05-22</td>\n",
       "    </tr>\n",
       "    <tr>\n",
       "      <th>5</th>\n",
       "      <td>2023-05-22T18:21:00.000Z</td>\n",
       "      <td>1028817402</td>\n",
       "      <td>0</td>\n",
       "      <td>0</td>\n",
       "      <td>NaN</td>\n",
       "      <td>2023-05-22</td>\n",
       "    </tr>\n",
       "    <tr>\n",
       "      <th>6</th>\n",
       "      <td>2023-05-22T18:27:00.000Z</td>\n",
       "      <td>1559834999</td>\n",
       "      <td>27</td>\n",
       "      <td>0</td>\n",
       "      <td>NaN</td>\n",
       "      <td>2023-05-22</td>\n",
       "    </tr>\n",
       "    <tr>\n",
       "      <th>7</th>\n",
       "      <td>2023-05-22T18:23:00.000Z</td>\n",
       "      <td>1083091999</td>\n",
       "      <td>8115</td>\n",
       "      <td>0</td>\n",
       "      <td>NaN</td>\n",
       "      <td>2023-05-22</td>\n",
       "    </tr>\n",
       "    <tr>\n",
       "      <th>8</th>\n",
       "      <td>2023-05-22T16:26:00.000Z</td>\n",
       "      <td>1057045008</td>\n",
       "      <td>1378</td>\n",
       "      <td>0</td>\n",
       "      <td>NaN</td>\n",
       "      <td>2023-05-22</td>\n",
       "    </tr>\n",
       "    <tr>\n",
       "      <th>9</th>\n",
       "      <td>2023-05-22T18:43:00.000Z</td>\n",
       "      <td>1771861586</td>\n",
       "      <td>0</td>\n",
       "      <td>0</td>\n",
       "      <td>NaN</td>\n",
       "      <td>2023-05-22</td>\n",
       "    </tr>\n",
       "  </tbody>\n",
       "</table>\n",
       "</div>"
      ],
      "text/plain": [
       "                  timestamp      serial grid_purchase grid_feedin  \\\n",
       "0  2023-05-22T15:40:00.000Z  1711356005           673           0   \n",
       "1  2023-05-22T15:54:00.000Z  2105167400           NaN          36   \n",
       "2  2023-05-22T16:14:00.000Z  1083091999          7012           0   \n",
       "3  2023-05-22T04:57:00.000Z   970568993             0        2045   \n",
       "4  2023-05-22T16:30:00.000Z  1559834999            27           0   \n",
       "5  2023-05-22T18:21:00.000Z  1028817402             0           0   \n",
       "6  2023-05-22T18:27:00.000Z  1559834999            27           0   \n",
       "7  2023-05-22T18:23:00.000Z  1083091999          8115           0   \n",
       "8  2023-05-22T16:26:00.000Z  1057045008          1378           0   \n",
       "9  2023-05-22T18:43:00.000Z  1771861586             0           0   \n",
       "\n",
       "  direct_consumption        date  \n",
       "0                NaN  2023-05-22  \n",
       "1                NaN  2023-05-22  \n",
       "2                NaN  2023-05-22  \n",
       "3                NaN  2023-05-22  \n",
       "4                NaN  2023-05-22  \n",
       "5                NaN  2023-05-22  \n",
       "6                NaN  2023-05-22  \n",
       "7                NaN  2023-05-22  \n",
       "8                NaN  2023-05-22  \n",
       "9                NaN  2023-05-22  "
      ]
     },
     "execution_count": 5,
     "metadata": {},
     "output_type": "execute_result"
    }
   ],
   "source": [
    "measurements.head(10)"
   ]
  },
  {
   "cell_type": "code",
   "execution_count": null,
   "metadata": {},
   "outputs": [
    {
     "data": {
      "application/vnd.microsoft.datawrangler.viewer.v0+json": {
       "columns": [
        {
         "name": "index",
         "rawType": "int64",
         "type": "integer"
        },
        {
         "name": "timestamp",
         "rawType": "object",
         "type": "string"
        },
        {
         "name": "serial",
         "rawType": "int64",
         "type": "integer"
        },
        {
         "name": "grid_purchase",
         "rawType": "object",
         "type": "unknown"
        },
        {
         "name": "grid_feedin",
         "rawType": "object",
         "type": "string"
        },
        {
         "name": "direct_consumption",
         "rawType": "object",
         "type": "unknown"
        },
        {
         "name": "date",
         "rawType": "object",
         "type": "string"
        }
       ],
       "conversionMethod": "pd.DataFrame",
       "ref": "953505f8-f1c8-4125-90bc-928cbb3b6c28",
       "rows": [
        [
         "15818",
         "2023-05-22T16:25:00.000Z",
         "517262015",
         "30",
         "0",
         null,
         "2023-05-22"
        ],
        [
         "15819",
         "2023-05-22T04:58:00.000Z",
         "1559834999",
         "0",
         "1521",
         null,
         "2023-05-22"
        ],
        [
         "15820",
         "2023-05-22T04:49:00.000Z",
         "1028817402",
         "0",
         "0",
         null,
         "2023-05-22"
        ],
        [
         "15821",
         "2023-05-22T04:54:00.000Z",
         "1135739597",
         "82",
         "0",
         null,
         "2023-05-22"
        ],
        [
         "15822",
         "2023-05-22T16:35:00.000Z",
         "1135739597",
         "6498",
         "0",
         null,
         "2023-05-22"
        ],
        [
         "15823",
         "2023-05-22T17:15:00.000Z",
         "2105167400",
         null,
         "0",
         null,
         "2023-05-22"
        ],
        [
         "15824",
         "2023-05-22T18:58:00.000Z",
         "517262015",
         "29",
         "0",
         null,
         "2023-05-22"
        ],
        [
         "15825",
         "2023-05-22T15:04:00.000Z",
         "1135739597",
         "6918",
         "0",
         null,
         "2023-05-22"
        ],
        [
         "15826",
         "2023-05-22T18:05:00.000Z",
         "970568993",
         "460",
         "0",
         null,
         "2023-05-22"
        ],
        [
         "15827",
         "2023-05-22T16:57:00.000Z",
         "1083091999",
         "5652",
         "0",
         null,
         "2023-05-22"
        ]
       ],
       "shape": {
        "columns": 6,
        "rows": 10
       }
      },
      "text/html": [
       "<div>\n",
       "<style scoped>\n",
       "    .dataframe tbody tr th:only-of-type {\n",
       "        vertical-align: middle;\n",
       "    }\n",
       "\n",
       "    .dataframe tbody tr th {\n",
       "        vertical-align: top;\n",
       "    }\n",
       "\n",
       "    .dataframe thead th {\n",
       "        text-align: right;\n",
       "    }\n",
       "</style>\n",
       "<table border=\"1\" class=\"dataframe\">\n",
       "  <thead>\n",
       "    <tr style=\"text-align: right;\">\n",
       "      <th></th>\n",
       "      <th>timestamp</th>\n",
       "      <th>serial</th>\n",
       "      <th>grid_purchase</th>\n",
       "      <th>grid_feedin</th>\n",
       "      <th>direct_consumption</th>\n",
       "      <th>date</th>\n",
       "    </tr>\n",
       "  </thead>\n",
       "  <tbody>\n",
       "    <tr>\n",
       "      <th>15818</th>\n",
       "      <td>2023-05-22T16:25:00.000Z</td>\n",
       "      <td>517262015</td>\n",
       "      <td>30</td>\n",
       "      <td>0</td>\n",
       "      <td>NaN</td>\n",
       "      <td>2023-05-22</td>\n",
       "    </tr>\n",
       "    <tr>\n",
       "      <th>15819</th>\n",
       "      <td>2023-05-22T04:58:00.000Z</td>\n",
       "      <td>1559834999</td>\n",
       "      <td>0</td>\n",
       "      <td>1521</td>\n",
       "      <td>NaN</td>\n",
       "      <td>2023-05-22</td>\n",
       "    </tr>\n",
       "    <tr>\n",
       "      <th>15820</th>\n",
       "      <td>2023-05-22T04:49:00.000Z</td>\n",
       "      <td>1028817402</td>\n",
       "      <td>0</td>\n",
       "      <td>0</td>\n",
       "      <td>NaN</td>\n",
       "      <td>2023-05-22</td>\n",
       "    </tr>\n",
       "    <tr>\n",
       "      <th>15821</th>\n",
       "      <td>2023-05-22T04:54:00.000Z</td>\n",
       "      <td>1135739597</td>\n",
       "      <td>82</td>\n",
       "      <td>0</td>\n",
       "      <td>NaN</td>\n",
       "      <td>2023-05-22</td>\n",
       "    </tr>\n",
       "    <tr>\n",
       "      <th>15822</th>\n",
       "      <td>2023-05-22T16:35:00.000Z</td>\n",
       "      <td>1135739597</td>\n",
       "      <td>6498</td>\n",
       "      <td>0</td>\n",
       "      <td>NaN</td>\n",
       "      <td>2023-05-22</td>\n",
       "    </tr>\n",
       "    <tr>\n",
       "      <th>15823</th>\n",
       "      <td>2023-05-22T17:15:00.000Z</td>\n",
       "      <td>2105167400</td>\n",
       "      <td>NaN</td>\n",
       "      <td>0</td>\n",
       "      <td>NaN</td>\n",
       "      <td>2023-05-22</td>\n",
       "    </tr>\n",
       "    <tr>\n",
       "      <th>15824</th>\n",
       "      <td>2023-05-22T18:58:00.000Z</td>\n",
       "      <td>517262015</td>\n",
       "      <td>29</td>\n",
       "      <td>0</td>\n",
       "      <td>NaN</td>\n",
       "      <td>2023-05-22</td>\n",
       "    </tr>\n",
       "    <tr>\n",
       "      <th>15825</th>\n",
       "      <td>2023-05-22T15:04:00.000Z</td>\n",
       "      <td>1135739597</td>\n",
       "      <td>6918</td>\n",
       "      <td>0</td>\n",
       "      <td>NaN</td>\n",
       "      <td>2023-05-22</td>\n",
       "    </tr>\n",
       "    <tr>\n",
       "      <th>15826</th>\n",
       "      <td>2023-05-22T18:05:00.000Z</td>\n",
       "      <td>970568993</td>\n",
       "      <td>460</td>\n",
       "      <td>0</td>\n",
       "      <td>NaN</td>\n",
       "      <td>2023-05-22</td>\n",
       "    </tr>\n",
       "    <tr>\n",
       "      <th>15827</th>\n",
       "      <td>2023-05-22T16:57:00.000Z</td>\n",
       "      <td>1083091999</td>\n",
       "      <td>5652</td>\n",
       "      <td>0</td>\n",
       "      <td>NaN</td>\n",
       "      <td>2023-05-22</td>\n",
       "    </tr>\n",
       "  </tbody>\n",
       "</table>\n",
       "</div>"
      ],
      "text/plain": [
       "                      timestamp      serial grid_purchase grid_feedin  \\\n",
       "15818  2023-05-22T16:25:00.000Z   517262015            30           0   \n",
       "15819  2023-05-22T04:58:00.000Z  1559834999             0        1521   \n",
       "15820  2023-05-22T04:49:00.000Z  1028817402             0           0   \n",
       "15821  2023-05-22T04:54:00.000Z  1135739597            82           0   \n",
       "15822  2023-05-22T16:35:00.000Z  1135739597          6498           0   \n",
       "15823  2023-05-22T17:15:00.000Z  2105167400           NaN           0   \n",
       "15824  2023-05-22T18:58:00.000Z   517262015            29           0   \n",
       "15825  2023-05-22T15:04:00.000Z  1135739597          6918           0   \n",
       "15826  2023-05-22T18:05:00.000Z   970568993           460           0   \n",
       "15827  2023-05-22T16:57:00.000Z  1083091999          5652           0   \n",
       "\n",
       "      direct_consumption        date  \n",
       "15818                NaN  2023-05-22  \n",
       "15819                NaN  2023-05-22  \n",
       "15820                NaN  2023-05-22  \n",
       "15821                NaN  2023-05-22  \n",
       "15822                NaN  2023-05-22  \n",
       "15823                NaN  2023-05-22  \n",
       "15824                NaN  2023-05-22  \n",
       "15825                NaN  2023-05-22  \n",
       "15826                NaN  2023-05-22  \n",
       "15827                NaN  2023-05-22  "
      ]
     },
     "execution_count": 6,
     "metadata": {},
     "output_type": "execute_result"
    }
   ],
   "source": [
    "measurements.tail(10)"
   ]
  },
  {
   "cell_type": "markdown",
   "metadata": {},
   "source": [
    "So, at first glance we should ensure consistent data types\n",
    "- Task #1 -> remove the Dev test rows to ensure data consistency\n",
    "- Task #2 -> convert grid_purchase, grid_feedin columns, and direct_consumption to int data type\n",
    "- Task #3 -> remove the redundant date column\n",
    "- Task #4 -> convert the timestamp column into datetime data type\n",
    "- Task #5 -> set the timestamp column as index for smooth data slicing\n",
    "- Task #6 -> replace null values with zeros for the grid_purchase, and the grid_feedin columns\n",
    "- Task #7 -> add a flag column to trigger where the direct_consumption is not null\n",
    "\n",
    "These are the tasks that the cleaned_dataset() function should execute in the pipeline to return a cleaned dataset"
   ]
  }
 ],
 "metadata": {
  "kernelspec": {
   "display_name": "base",
   "language": "python",
   "name": "python3"
  },
  "language_info": {
   "codemirror_mode": {
    "name": "ipython",
    "version": 3
   },
   "file_extension": ".py",
   "mimetype": "text/x-python",
   "name": "python",
   "nbconvert_exporter": "python",
   "pygments_lexer": "ipython3",
   "version": "3.11.7"
  }
 },
 "nbformat": 4,
 "nbformat_minor": 2
}
